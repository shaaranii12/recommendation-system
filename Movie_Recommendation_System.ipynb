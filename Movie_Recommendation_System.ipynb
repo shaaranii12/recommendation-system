{
  "nbformat": 4,
  "nbformat_minor": 0,
  "metadata": {
    "colab": {
      "provenance": [],
      "collapsed_sections": [
        "LhbTHN7pIdo1",
        "-TMfDh1pI1B7"
      ],
      "toc_visible": true,
      "authorship_tag": "ABX9TyPed74lctDvB1zolch0jdKO",
      "include_colab_link": true
    },
    "kernelspec": {
      "name": "python3",
      "display_name": "Python 3"
    },
    "language_info": {
      "name": "python"
    }
  },
  "cells": [
    {
      "cell_type": "markdown",
      "metadata": {
        "id": "view-in-github",
        "colab_type": "text"
      },
      "source": [
        "<a href=\"https://colab.research.google.com/github/shaaranii12/recommendation-system/blob/main/Movie_Recommendation_System.ipynb\" target=\"_parent\"><img src=\"https://colab.research.google.com/assets/colab-badge.svg\" alt=\"Open In Colab\"/></a>"
      ]
    },
    {
      "cell_type": "markdown",
      "source": [
        "## Data Preparation & Preprocessing"
      ],
      "metadata": {
        "id": "LhbTHN7pIdo1"
      }
    },
    {
      "cell_type": "code",
      "execution_count": null,
      "metadata": {
        "id": "WFjU25Ahnk5l"
      },
      "outputs": [],
      "source": [
        "#Installing required libraries quietly ( -q no output shown)\n",
        "!pip install nltk scikit-learn numpy pandas -q"
      ]
    },
    {
      "cell_type": "code",
      "source": [
        "# Importing core libraries for data analysis\n",
        "import numpy as np\n",
        "import pandas as pd\n",
        "import matplotlib.pyplot as plt"
      ],
      "metadata": {
        "id": "mRi6mL4_ofti"
      },
      "execution_count": null,
      "outputs": []
    },
    {
      "cell_type": "code",
      "source": [
        "from google.colab import drive\n",
        "drive.mount('/content/drive')"
      ],
      "metadata": {
        "id": "MJSDkYaqpL15"
      },
      "execution_count": null,
      "outputs": []
    },
    {
      "cell_type": "code",
      "source": [
        "#Loading of dataset\n",
        "data = pd.read_csv('/content/drive/MyDrive/Projects/Project2_Rec_System/movies.csv')"
      ],
      "metadata": {
        "id": "QMPli-yLrdAi"
      },
      "execution_count": null,
      "outputs": []
    },
    {
      "cell_type": "code",
      "source": [
        "data.shape"
      ],
      "metadata": {
        "id": "p1uxMPpernPX"
      },
      "execution_count": null,
      "outputs": []
    },
    {
      "cell_type": "code",
      "source": [
        "#Selecting only the important columns needed for recommendation\n",
        "required_column = ['genres', 'keywords', 'overview', 'title']\n",
        "data = data[required_column]"
      ],
      "metadata": {
        "id": "rsdJCNQosemX"
      },
      "execution_count": null,
      "outputs": []
    },
    {
      "cell_type": "code",
      "source": [
        "data.head()"
      ],
      "metadata": {
        "id": "iFw8jnmMsuuF"
      },
      "execution_count": null,
      "outputs": []
    },
    {
      "cell_type": "code",
      "source": [
        "data.info()"
      ],
      "metadata": {
        "id": "ErlK3XzSsAii"
      },
      "execution_count": null,
      "outputs": []
    },
    {
      "cell_type": "code",
      "source": [
        "#drop rows with missing values\n",
        "data = data.dropna().reset_index(drop=True)"
      ],
      "metadata": {
        "id": "ll7kFJ9Gs3Nr"
      },
      "execution_count": null,
      "outputs": []
    },
    {
      "cell_type": "markdown",
      "source": [
        "For text-based recommendation, we need a single text field that represents each movie. This line merges overview, genres, and keywords into one column called **total_overview**. Later, this is converted into numerical features using TF-IDF to measure similarity between movies."
      ],
      "metadata": {
        "id": "OHPPue6uB8GG"
      }
    },
    {
      "cell_type": "code",
      "source": [
        "data['total_overview'] = data['overview'] + ' ' + data['genres'] + ' ' + data['keywords']"
      ],
      "metadata": {
        "id": "XFW1x4k-tGtQ"
      },
      "execution_count": null,
      "outputs": []
    },
    {
      "cell_type": "code",
      "source": [
        "data = data[['title', 'total_overview']]"
      ],
      "metadata": {
        "id": "P1uc_OQ7togM"
      },
      "execution_count": null,
      "outputs": []
    },
    {
      "cell_type": "code",
      "source": [
        "from wordcloud import WordCloud\n",
        "\n",
        "#Generate a word cloud of the total overview column\n",
        "overview_words = \" \".join(data['total_overview'])\n",
        "wordcloud = WordCloud(width=800, height=400, background_color='white').generate(overview_words)\n",
        "\n",
        "#Plot the word cloud\n",
        "plt.figure(figsize=(10, 5))\n",
        "plt.imshow(wordcloud, interpolation='bilinear')\n",
        "plt.axis('off')\n",
        "plt.title('Most Common Words in Movie Overviews')\n",
        "plt.show()"
      ],
      "metadata": {
        "id": "M5oiWiORt_rY"
      },
      "execution_count": null,
      "outputs": []
    },
    {
      "cell_type": "markdown",
      "source": [
        "**Wordcloud** quickly identify the most common keywords, genres, and descriptions across all movies."
      ],
      "metadata": {
        "id": "19livOxqD2Ka"
      }
    },
    {
      "cell_type": "code",
      "source": [
        "import nltk\n",
        "from nltk.corpus import stopwords\n",
        "from nltk.tokenize import word_tokenize\n",
        "\n",
        "nltk.download('punkt')\n",
        "nltk.download('punkt_tab')\n",
        "nltk.download('stopwords')"
      ],
      "metadata": {
        "id": "L-wn2Da6vM6X"
      },
      "execution_count": null,
      "outputs": []
    },
    {
      "cell_type": "markdown",
      "source": [
        "#Text Preprocessing"
      ],
      "metadata": {
        "id": "-TMfDh1pI1B7"
      }
    },
    {
      "cell_type": "code",
      "source": [
        "#Define a set of stopwords\n",
        "stop_words = set(stopwords.words('english'))"
      ],
      "metadata": {
        "id": "bRztOYSuve6G"
      },
      "execution_count": null,
      "outputs": []
    },
    {
      "cell_type": "markdown",
      "source": [
        "**Stop words** are very common words like “the”, “is”, “and” that don’t help tell movies apart. Removing them helps the model focuses on meaningful words instead and reduces noise"
      ],
      "metadata": {
        "id": "rLwsq74oF281"
      }
    },
    {
      "cell_type": "code",
      "source": [
        "import re\n",
        "\n",
        "def preprocess_text(text):\n",
        "    #Remove all characters that are not letters or spaces\n",
        "    text = re.sub(r'[^a-zA-Z\\s]', '', text)\n",
        "    #Convert all text to lowercase\n",
        "    text = text.lower()\n",
        "\n",
        "    #Tokenize the text and remove stopwords\n",
        "    tokens = word_tokenize(text)\n",
        "    tokens = [word for word in tokens if word not in stop_words]\n",
        "    return ' '.join(tokens)"
      ],
      "metadata": {
        "id": "KJEqZ42av5Ru"
      },
      "execution_count": null,
      "outputs": []
    },
    {
      "cell_type": "code",
      "source": [
        "data['total_overview_processed'] = data['total_overview'].apply(preprocess_text)"
      ],
      "metadata": {
        "id": "O5zz-sM64MM4"
      },
      "execution_count": null,
      "outputs": []
    },
    {
      "cell_type": "markdown",
      "source": [
        "##Modeling & Similarity"
      ],
      "metadata": {
        "id": "fja9LxiVI_Qe"
      }
    },
    {
      "cell_type": "markdown",
      "source": [
        "**TF-IDF** is a method that gives more weight to unique words and less to very common ones. Instead of just counting how often a word appears, it looks at how important that word is for describing a specific movie. This makes the comparison between movies smarter and more accurate than using plain word counts."
      ],
      "metadata": {
        "id": "D4JjvyLsEz3K"
      }
    },
    {
      "cell_type": "code",
      "source": [
        "from sklearn.feature_extraction.text import TfidfVectorizer\n",
        "\n",
        "#Initialize a TF-IDF Vectorizer, keeping only the top 10,000 most important words\n",
        "vectors = TfidfVectorizer(max_features=10000)\n",
        "\n",
        "#Fit the vectorizer on the processed text and transform it into a TF-IDF matrix\n",
        "matrix = vectors.fit_transform(data['total_overview_processed'])"
      ],
      "metadata": {
        "id": "ozGsziVl4sTS"
      },
      "execution_count": null,
      "outputs": []
    },
    {
      "cell_type": "markdown",
      "source": [
        "The TF-IDF matrix is a chart where each movie is a row, each word is a column, and the numbers show how important each word is for that movie."
      ],
      "metadata": {
        "id": "lFOSa7QCHfyK"
      }
    },
    {
      "cell_type": "code",
      "source": [
        "from sklearn.metrics.pairwise import cosine_similarity\n",
        "\n",
        "#Compute pairwise cosine similarity between all movie vectors\n",
        "cos_similarity = cosine_similarity(matrix, matrix)"
      ],
      "metadata": {
        "id": "lO8VjP137L7a"
      },
      "execution_count": null,
      "outputs": []
    },
    {
      "cell_type": "markdown",
      "source": [
        "The cosine similarity result is a big square table where each spot shows how similar one movie is to another. The higher the number, the more alike the two movies are."
      ],
      "metadata": {
        "id": "OjNOTGaJH4Zs"
      }
    },
    {
      "cell_type": "markdown",
      "source": [
        "#Building the function"
      ],
      "metadata": {
        "id": "tzaTdmXqJHPV"
      }
    },
    {
      "cell_type": "code",
      "source": [
        "def recommend_movies(movie_name, cos_similarity=cos_similarity, data=data, top_n=5):\n",
        "    # Find the index of the given movie\n",
        "    index = data[data['title'].str.lower() == movie_name.lower()].index\n",
        "    if len(index) == 0:\n",
        "        # Always return a list (empty if not found)\n",
        "        return []\n",
        "    index = index[0]\n",
        "\n",
        "    # Get similarity scores for the selected movie against all others\n",
        "    sim_scores = list(enumerate(cos_similarity[index]))\n",
        "\n",
        "    # Sort movies by similarity score in descending order\n",
        "    sim_scores = sorted(sim_scores, key=lambda x: x[1], reverse=True)\n",
        "\n",
        "    # Select the top N most similar movies (skip the first one, which is the movie itself)\n",
        "    sim_scores = sim_scores[1:top_n+1]\n",
        "\n",
        "    movie_indices = [i[0] for i in sim_scores]\n",
        "    return data['title'].iloc[movie_indices].tolist()  # ✅ convert to Python list"
      ],
      "metadata": {
        "id": "KOWFoS107uh_"
      },
      "execution_count": null,
      "outputs": []
    },
    {
      "cell_type": "code",
      "source": [
        "#Testing the usage of the recommendation function\n",
        "movie_example = \"Avatar\"\n",
        "print(f\"Recommendation for the movie {movie_example}\")\n",
        "recommendation = recommend_movies(movie_example)\n",
        "print(recommendation)"
      ],
      "metadata": {
        "id": "NPlTDxxL9r-N"
      },
      "execution_count": null,
      "outputs": []
    },
    {
      "cell_type": "markdown",
      "source": [
        "#API Intergration"
      ],
      "metadata": {
        "id": "YYrU-Jg3UGCC"
      }
    },
    {
      "cell_type": "code",
      "source": [
        "import json\n",
        "with open(\"/content/drive/MyDrive/Projects/Project2_Rec_System/config.json\") as f:\n",
        "    config = json.load(f)\n",
        "\n",
        "OMDB_API_KEY = config[\"OMDB_API_KEY\"]"
      ],
      "metadata": {
        "id": "kp5aEDjSD3eP"
      },
      "execution_count": null,
      "outputs": []
    },
    {
      "cell_type": "code",
      "source": [
        "import requests\n",
        "\n",
        "def get_movie_details(title, api_key):\n",
        "    url = f\"http://www.omdbapi.com/?t={title}&plot=full&apikey={api_key}\"\n",
        "    res = requests.get(url).json()\n",
        "    if res.get(\"Response\") == \"True\":\n",
        "        plot = res.get(\"Plot\", \"N/A\")\n",
        "        poster = res.get(\"Poster\", \"N/A\")\n",
        "        return plot, poster\n",
        "    return \"N/A\", \"N/A\"\n",
        "\n",
        "# Test\n",
        "plot, poster = get_movie_details(\"Inception\", OMDB_API_KEY)\n",
        "print(\"Plot:\", plot)\n",
        "print(\"Poster:\", poster)"
      ],
      "metadata": {
        "id": "zg_s6ed0LzyM"
      },
      "execution_count": null,
      "outputs": []
    },
    {
      "cell_type": "code",
      "source": [
        "#Testing the API with the function built\n",
        "movies = recommend_movies(\"Inception\")\n",
        "for m in movies:\n",
        "    plot, poster = get_movie_details(m, OMDB_API_KEY)\n",
        "    print(m)\n",
        "    print(\"Plot:\", plot[:100], \"...\")\n",
        "    print(\"Poster:\", poster)\n",
        "    print(\"===\")"
      ],
      "metadata": {
        "id": "XU0qIsIGMGDa"
      },
      "execution_count": null,
      "outputs": []
    },
    {
      "cell_type": "markdown",
      "source": [
        "# Deployment to Gradio"
      ],
      "metadata": {
        "id": "0KGQJOeOUgt1"
      }
    },
    {
      "cell_type": "code",
      "source": [
        "import joblib\n",
        "\n",
        "# Save cleaned dataframe and similarity matrix\n",
        "joblib.dump(data, \"df_cleaned.pkl\")\n",
        "joblib.dump(cos_similarity, \"cosine_sim.pkl\")"
      ],
      "metadata": {
        "id": "nAHBZeKiJbqI"
      },
      "execution_count": null,
      "outputs": []
    },
    {
      "cell_type": "code",
      "source": [
        "!pip install gradio -q"
      ],
      "metadata": {
        "id": "Qjx0sqrvGNY7"
      },
      "execution_count": null,
      "outputs": []
    },
    {
      "cell_type": "code",
      "source": [
        "!pip install -U huggingface_hub -q"
      ],
      "metadata": {
        "id": "U7Nb_qkuGT9n"
      },
      "execution_count": null,
      "outputs": []
    },
    {
      "cell_type": "code",
      "source": [
        "from huggingface_hub import login, create_repo"
      ],
      "metadata": {
        "id": "1OOxA8n_Ggyu"
      },
      "execution_count": null,
      "outputs": []
    },
    {
      "cell_type": "code",
      "source": [
        "login()"
      ],
      "metadata": {
        "id": "fJxHkn-5Gi6W"
      },
      "execution_count": null,
      "outputs": []
    },
    {
      "cell_type": "code",
      "source": [
        "#Define the repository ID\n",
        "repo_id = \"Shaaranii12/reccomendation-model\"\n",
        "\n",
        "#Create a new repository on Hugging Face Hub\n",
        "create_repo(repo_id=repo_id, repo_type=\"space\", space_sdk=\"gradio\", private=False, exist_ok=True)"
      ],
      "metadata": {
        "id": "K6iThPXEHlEO"
      },
      "execution_count": null,
      "outputs": []
    },
    {
      "cell_type": "markdown",
      "source": [
        "The movie recommendation system was successfully uploaded and deployed on Hugging Face Spaces, creating a simple web app where users can select a movie and instantly see similar recommendations.\n",
        "\n",
        "Click the link to explore the app: [Movie Recommendation System](https://huggingface.co/spaces/Shaaranii12/reccomendation-model)"
      ],
      "metadata": {
        "id": "ZR2bPgJGU3IZ"
      }
    }
  ]
}